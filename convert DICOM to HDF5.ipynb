{
 "cells": [
  {
   "cell_type": "code",
   "execution_count": 2,
   "id": "624ad4ce",
   "metadata": {},
   "outputs": [],
   "source": [
    "#https://notebook.community/mas-dse-greina/neon/dicom/DICOM%20Processing%20Script - code taken from here\n",
    "\n",
    "from matplotlib import pyplot as plt, cm\n",
    "from PIL import Image, ImageEnhance\n",
    "import numpy as np\n",
    "import glob, os\n",
    "import h5py\n",
    "import ntpath\n",
    "import SimpleITK as sitk\n",
    "import cv2\n",
    "import random\n",
    "import pydicom\n",
    "import sigpy as sp\n",
    "import sigpy.plot as pl\n",
    "import sigpy.mri as mr\n",
    "from pydicom.pixel_data_handlers.util import apply_voi_lut\n",
    "\n",
    "%matplotlib inline\n",
    "\n",
    "\n",
    "DATA_DIR = \"C:/Users/Kevin/Desktop/patient data/original/train\"\n",
    "DATA_DIR_TESTING = \"C:/Users/Kevin/Desktop/patient data/original/test\"\n",
    "DATA_DIR_MASK_TRAIN = \"C:/Users/Kevin/Desktop/patient data/mask/train\"\n",
    "DATA_DIR_MASK_TEST = \"C:/Users/Kevin/Desktop/patient data/mask/test\"\n",
    "\n",
    "patients = glob.glob(os.path.join(DATA_DIR, '*')) # Get the folder names for the patients - for training\n",
    "patients_testing = glob.glob(os.path.join(DATA_DIR_TESTING, '*'))\n",
    "patients_training_mask = glob.glob(os.path.join(DATA_DIR_MASK_TRAIN, '*')) # Get the folder names for the patients - for training\n",
    "patients_testing_mask = glob.glob(os.path.join(DATA_DIR_MASK_TEST, '*'))\n",
    "\n",
    "\n",
    "\n",
    "def read_xray(path, voi_lut = True, fix_monochrome = True):\n",
    "    dicom = pydicom.read_file(path)\n",
    "    \n",
    "    # VOI LUT (if available by DICOM device) is used to transform raw DICOM data to \"human-friendly\" view\n",
    "    if voi_lut:\n",
    "        data = apply_voi_lut(dicom.pixel_array, dicom)\n",
    "    else:\n",
    "        data = dicom.pixel_array\n",
    "               \n",
    "    # depending on this value, X-ray may look inverted - fix that:\n",
    "    if fix_monochrome and dicom.PhotometricInterpretation == \"MONOCHROME1\":\n",
    "        data = np.amax(data) - data\n",
    "        \n",
    "    data = data - np.min(data)\n",
    "    data = data / np.max(data)\n",
    "    data = (data * 255).astype(np.uint8)\n",
    "        \n",
    "    return data\n",
    "\n",
    "\n",
    "def makeCSM(path, num_of_coils = 1):\n",
    "#path is just the path of the jpeg you'll be passing through after you create it from the dicom. \n",
    "#this function makes the CSM images. \n",
    "    \n",
    "    gradient_magnitude = 1.2\n",
    "    faded_arr = []\n",
    "    iteration_angle = 360/(num_of_coils)\n",
    "    \n",
    "    for i in range(num_of_coils):\n",
    "        im = Image.open(path).convert(\"L\").rotate(270+(i*iteration_angle))\n",
    "        if im.mode != 'RGBA':\n",
    "            im = im.convert('RGBA')\n",
    "        width, height = im.size\n",
    "        gradient = Image.new('L', (width, 1), color=0xFF)\n",
    "        for x in range(width):\n",
    "            # gradient.putpixel((x, 0), 255-x)\n",
    "            gradient.putpixel((x, 0), int(255 * (1.2 - gradient_magnitude * float(x)/width)))\n",
    "        alpha = gradient.resize(im.size)\n",
    "        black_im = Image.new('RGBA', (width, height), color=0) # i.e. black\n",
    "        black_im.putalpha(alpha)\n",
    "        gradient_im = Image.alpha_composite(im, black_im)\n",
    "\n",
    "        #increases contrast of image\n",
    "        enhancer = ImageEnhance.Contrast(gradient_im)\n",
    "        gradient_im = enhancer.enhance(2.5)\n",
    "\n",
    "        #converts image to greyscale\n",
    "        gradient_im = gradient_im.convert('L').rotate(90-(i*iteration_angle))\n",
    "        \n",
    "        #creates numpy array from image\n",
    "        np_arr = np.array(gradient_im)\n",
    "        \n",
    "        #FFT conversion\n",
    "        img_fft = np.fft.fftshift(np_arr)\n",
    "        img_fft = np.fft.fft2(img_fft)\n",
    "        \n",
    "        #pushes each image np.array into larger array\n",
    "        if i == 0:\n",
    "            faded_arr = np.expand_dims(img_fft, axis = 0)\n",
    "        else:\n",
    "            faded_arr = np.append(faded_arr, np.expand_dims(img_fft, axis = 0), axis = 0)\n",
    "    \n",
    "            \n",
    "    #here begins CSM estimations - prepares FFT for CSM esitmation\n",
    "    ksp = faded_arr\n",
    "    temp = []\n",
    "\n",
    "    for i in range(num_of_coils):\n",
    "        ksp_arr = []\n",
    "        ksp_arr = ksp[i]\n",
    "        ksp_arr = np.fft.fftshift(ksp[i])\n",
    "        if i == 0:\n",
    "            temp = np.expand_dims(ksp_arr, axis = 0)\n",
    "        else:\n",
    "            temp = np.append(temp, np.expand_dims(ksp_arr, axis = 0), axis = 0)\n",
    "\n",
    "    ksp = temp\n",
    "        \n",
    "    #plots the k-spaces \n",
    "    #pl.ImagePlot(ksp, mode='l', z=0, title='k-space')\n",
    "        \n",
    "    mps = mr.app.EspiritCalib(ksp).run()\n",
    "    \n",
    "    #print(mps.shape)\n",
    "\n",
    "    #pl.ImagePlot(mps, z=0, title='Sensitivity Maps Estimated by ESPIRiT')\n",
    "            \n",
    "        #prints image out\n",
    "        #following commented code is only for diagnosis\n",
    "        \n",
    "#         plt.imshow(img_fft.astype(\"float64\"))\n",
    "#         plt.show()\n",
    "        \n",
    "#         #prints shape\n",
    "#         print(np_arr.shape)\n",
    "\n",
    "#         #saves image as file\n",
    "#         gradient_im.save('C:/Users/Kevin/Desktop/old/test/out' + str(i) + '.png', 'PNG')\n",
    "\n",
    "    return mps\n",
    "\n",
    "\n",
    "def getImageTensor(patientDirectory):\n",
    "    \"\"\"\n",
    "    Helper function for injesting all of the DICOM files for one study into a single tensor\n",
    "    \n",
    "    input: 'patientDirectory', the directory where the DICOMs for a single patient are stored\n",
    "    outputs:\n",
    "            imgTensor = a flattened numpy array (1, C*H*W*D)\n",
    "            C = number of channels per pixel (1 for MR, CT, and Xray)\n",
    "            H = number of pixels in height\n",
    "            W = number of pixels in width\n",
    "            D = number of pixels in depth\n",
    "    \"\"\"\n",
    "    \n",
    "    imgTensor = []\n",
    "    reader = sitk.ImageSeriesReader()  # Set up the reader object\n",
    "    \n",
    "    print(patientDirectory)\n",
    "    \n",
    "    ##for imgTensor\n",
    "    for patientDirectory in patients[:1]:\n",
    "        print(\"Assembling trnOrg files... \\n\")\n",
    "        # Now get the names of the DICOM files within the directory\n",
    "        filenamesDICOM = reader.GetGDCMSeriesFileNames(patientDirectory)\n",
    "        reader.SetFileNames(filenamesDICOM)\n",
    "        # Now execute the reader pipeline\n",
    "        patientObject = reader.Execute() \n",
    "\n",
    "        imgTensor = sitk.GetArrayFromImage(patientObject)\n",
    "        \n",
    "    for patientDirectory in patients[1:]:\n",
    "        # Now get the names of the DICOM files within the directory\n",
    "        filenamesDICOM = reader.GetGDCMSeriesFileNames(patientDirectory)\n",
    "        reader.SetFileNames(filenamesDICOM)\n",
    "        # Now execute the reader pipeline\n",
    "        patientObject = reader.Execute()\n",
    "\n",
    "        C = patientObject.GetNumberOfComponentsPerPixel() # There is just one color channel in the DICOM for CT and MRI\n",
    "        H = patientObject.GetHeight()  # Height in pixels\n",
    "        W = patientObject.GetWidth()   # Width in pixels\n",
    "        D = patientObject.GetDepth()  # Depth in pixels\n",
    "\n",
    "        imgTensor = np.append(imgTensor, sitk.GetArrayFromImage(patientObject), axis=0)\n",
    "        \n",
    "        \n",
    "    print(\"Done assembling trnOrg files! \\n\")\n",
    "        \n",
    "    ##for imgTensorCSM\n",
    "    imgTensorCSM = []\n",
    "    number_of_coils = 1\n",
    "        \n",
    "    print(\"Assembling trnCsm files... \\n\")\n",
    "    \n",
    "    for j in range(0,len(patients)):\n",
    "        DATA_DIR_TRNCSM = patients[j]\n",
    "        patients_images = glob.glob(os.path.join(DATA_DIR_TRNCSM, '*'))\n",
    "        CSMtemp = []\n",
    "\n",
    "        for i in range(0,1):#len(patients_testing)):\n",
    "            ds = read_xray(patients_images[i])\n",
    "            im = Image.fromarray(ds)\n",
    "            filename = \"C:/Users/Kevin/Desktop/patient data/temp storage/file-out \" + str(i) + \".jpeg\"\n",
    "            im.save(filename)\n",
    "            array_with_fft_applied = makeCSM(filename, number_of_coils)\n",
    "            os.remove(filename)\n",
    "            if i == 0:\n",
    "                CSMtemp = np.expand_dims(array_with_fft_applied, axis = 0)\n",
    "            else:\n",
    "                CSMtemp = np.append(CSMtemp, np.expand_dims(array_with_fft_applied, axis = 0), axis = 0)\n",
    "                print(\"image number \" + str(i+1) + \" done!\")\n",
    "                \n",
    "        if j == 0:\n",
    "            imgTensorCSM = CSMtemp\n",
    "        else:\n",
    "            imgTensorCSM = np.append(imgTensorCSM, CSMtemp, axis = 0)\n",
    "        \n",
    "        \n",
    "                \n",
    "    print(imgTensorCSM.shape)\n",
    "    \n",
    "\n",
    "    print(\"Done assembling trnCsm files! \\n\")\n",
    "               \n",
    "    \n",
    "    return imgTensor, imgTensorCSM, C, H, W, D\n",
    "\n",
    "\n",
    "def getImageTensor_mask(patients_training_mask_var, patients_testing_mask_var):\n",
    "    \n",
    "    training_mask = []\n",
    "    testing_mask = []\n",
    "\n",
    "    #for training\n",
    "    print(\"Assembling trnMask files... \\n\")\n",
    "    for patientDirectory in patients_training_mask_var[:1]:\n",
    "        image = Image.open(patientDirectory).convert('L')\n",
    "        img_arr = np.array(image)\n",
    "        training_mask = np.expand_dims(img_arr, axis = 0)\n",
    "\n",
    "\n",
    "    for patientDirectory in patients_training_mask_var[1:]:\n",
    "        image = Image.open(patientDirectory).convert('L')\n",
    "        img_arr = np.array(image)\n",
    "        training_mask = np.append(training_mask, np.expand_dims(img_arr, axis = 0), axis = 0)\n",
    "    print(training_mask.shape)\n",
    "    print(\"Done assembling trnMask files! \\n\")\n",
    "\n",
    "\n",
    "    #for testing\n",
    "    print(\"Assembling tstMask files... \\n\")\n",
    "    for patientDirectory in patients_testing_mask_var[:1]:\n",
    "        image = Image.open(patientDirectory).convert('L')\n",
    "        img_arr = np.array(image)\n",
    "        img_arr = img_arr.astype(\"float64\")\n",
    "        testing_mask = np.expand_dims(img_arr, axis = 0)\n",
    "\n",
    "\n",
    "    for patientDirectory in patients_testing_mask_var[1:]:\n",
    "        image = Image.open(patientDirectory).convert('L')\n",
    "        img_arr = np.array(image)\n",
    "        img_arr = img_arr.astype(\"float64\")\n",
    "        testing_mask = np.append(testing_mask, np.expand_dims(img_arr, axis = 0), axis = 0)\n",
    "    print(testing_mask.shape)\n",
    "    print(\"Done assembling tstMask files! \\n\")\n",
    "    \n",
    "    return training_mask, testing_mask\n",
    "\n",
    "\n",
    "def getImageTensor_test(patientDirectory):\n",
    "    \"\"\"\n",
    "    Helper function for injesting all of the DICOM files for one study into a single tensor\n",
    "    \n",
    "    input: 'patientDirectory', the directory where the DICOMs for a single patient are stored\n",
    "    outputs:\n",
    "            imgTensor = a flattened numpy array (1, C*H*W*D)\n",
    "            C = number of channels per pixel (1 for MR, CT, and Xray)\n",
    "            H = number of pixels in height\n",
    "            W = number of pixels in width\n",
    "            D = number of pixels in depth\n",
    "    \"\"\"\n",
    "    \n",
    "    imgTensor = []\n",
    "    reader = sitk.ImageSeriesReader()  # Set up the reader object\n",
    "    \n",
    "    ##for imgTensor\n",
    "    for patientDirectory in patients_testing[:1]:\n",
    "        print(\"Assembling tstOrg files... \\n\")\n",
    "        # Now get the names of the DICOM files within the directory\n",
    "        filenamesDICOM = reader.GetGDCMSeriesFileNames(patientDirectory)\n",
    "        reader.SetFileNames(filenamesDICOM)\n",
    "        # Now execute the reader pipeline\n",
    "        patientObject = reader.Execute() \n",
    "\n",
    "        imgTensor = sitk.GetArrayFromImage(patientObject)\n",
    "        \n",
    "    for patientDirectory in patients_testing[1:]:\n",
    "        # Now get the names of the DICOM files within the directory\n",
    "        filenamesDICOM = reader.GetGDCMSeriesFileNames(patientDirectory)\n",
    "        reader.SetFileNames(filenamesDICOM)\n",
    "        # Now execute the reader pipeline\n",
    "        patientObject = reader.Execute()\n",
    "\n",
    "        C = patientObject.GetNumberOfComponentsPerPixel() # There is just one color channel in the DICOM for CT and MRI\n",
    "        H = patientObject.GetHeight()  # Height in pixels\n",
    "        W = patientObject.GetWidth()   # Width in pixels\n",
    "        D = patientObject.GetDepth()  # Depth in pixels\n",
    "\n",
    "        imgTensor = np.append(imgTensor, sitk.GetArrayFromImage(patientObject), axis=0)\n",
    "        \n",
    "    print(\"Done assembling tstOrg files! \\n\")\n",
    "        \n",
    "   \n",
    "    ##for imgTensorCSM \n",
    "    ##preparing for CSM coil approximation \n",
    "    imgTensorCSM = []\n",
    "    number_of_coils = 1\n",
    "    \n",
    "    for j in range(0,1):#len(patients_testing)):\n",
    "        DATA_DIR_TSTCSM = patients_testing[j]\n",
    "        patients_images = glob.glob(os.path.join(DATA_DIR_TSTCSM, '*'))\n",
    "        CSMtemp = []\n",
    "\n",
    "        for i in range(0,len(patients_images)):\n",
    "            ds = read_xray(patients_images[i])\n",
    "            im = Image.fromarray(ds)\n",
    "            filename = \"C:/Users/Kevin/Desktop/patient data/temp storage/file-out \" + str(i) + \".jpeg\"\n",
    "            im.save(filename)\n",
    "            array_with_fft_applied = makeCSM(filename, number_of_coils)\n",
    "            os.remove(filename)\n",
    "            if i == 0:\n",
    "                CSMtemp = np.expand_dims(array_with_fft_applied, axis = 0)\n",
    "            else:\n",
    "                CSMtemp = np.append(CSMtemp, np.expand_dims(array_with_fft_applied, axis = 0), axis = 0)\n",
    "        \n",
    "        if j == 0:\n",
    "            imgTensorCSM = CSMtemp\n",
    "        else:\n",
    "            imgTensorCSM = np.append(imgTensorCSM, CSMtemp, axis = 0)\n",
    "        \n",
    "                \n",
    "    plt.imshow(imgTensorCSM[0][0].astype(\"float64\"))\n",
    "    plt.show()\n",
    "    print(imgTensorCSM.shape)\n",
    "\n",
    "    print(\"Done assembling tstCsm files! \\n\")\n",
    "               \n",
    "    \n",
    "    return imgTensor, imgTensorCSM, C, H, W, D\n",
    "\n",
    "\n",
    "\n",
    "#################################################################################################\n",
    "#where the magic happens\n",
    "\n"
   ]
  },
  {
   "cell_type": "code",
   "execution_count": 6,
   "id": "b6c1df15",
   "metadata": {},
   "outputs": [
    {
     "name": "stdout",
     "output_type": "stream",
     "text": [
      "Compiling HDF5 dataset file now... \n",
      "\n",
      "['C:/Users/Kevin/Desktop/patient data/original/train\\\\11.000000-T1post-04208', 'C:/Users/Kevin/Desktop/patient data/original/train\\\\11.000000-T1post-24727', 'C:/Users/Kevin/Desktop/patient data/original/train\\\\11.000000-T1post-36303', 'C:/Users/Kevin/Desktop/patient data/original/train\\\\11.000000-T1post-45042', 'C:/Users/Kevin/Desktop/patient data/original/train\\\\12.000000-T1post-03514', 'C:/Users/Kevin/Desktop/patient data/original/train\\\\13.000000-T1post-77241', 'C:/Users/Kevin/Desktop/patient data/original/train\\\\14.000000-T1post-22014', 'C:/Users/Kevin/Desktop/patient data/original/train\\\\15.000000-T1post-68979', 'C:/Users/Kevin/Desktop/patient data/original/train\\\\37974.000000-T2reg-50744', 'C:/Users/Kevin/Desktop/patient data/original/train\\\\37980.000000-T2reg-88079', 'C:/Users/Kevin/Desktop/patient data/original/train\\\\37982.000000-T2reg-54614', 'C:/Users/Kevin/Desktop/patient data/original/train\\\\37996.000000-T2reg-91397', 'C:/Users/Kevin/Desktop/patient data/original/train\\\\39716.000000-T1prereg-22799', 'C:/Users/Kevin/Desktop/patient data/original/train\\\\40845.000000-T1prereg-53096', 'C:/Users/Kevin/Desktop/patient data/original/train\\\\43501.000000-T1prereg-52535', 'C:/Users/Kevin/Desktop/patient data/original/train\\\\43644.000000-T1prereg-04742']\n",
      "Assembling trnOrg files... \n",
      "\n",
      "Done assembling trnOrg files! \n",
      "\n",
      "Assembling trnCsm files... \n",
      "\n"
     ]
    },
    {
     "data": {
      "application/vnd.jupyter.widget-view+json": {
       "model_id": "f9f5bf197fa14b008a2d20585d4f7bb0",
       "version_major": 2,
       "version_minor": 0
      },
      "text/plain": [
       "EspiritCalib:   0%|          | 0/100 [00:00<?, ?it/s]"
      ]
     },
     "metadata": {},
     "output_type": "display_data"
    },
    {
     "data": {
      "application/vnd.jupyter.widget-view+json": {
       "model_id": "2bfb6c6de7844375a14a6720684899b2",
       "version_major": 2,
       "version_minor": 0
      },
      "text/plain": [
       "EspiritCalib:   0%|          | 0/100 [00:00<?, ?it/s]"
      ]
     },
     "metadata": {},
     "output_type": "display_data"
    },
    {
     "data": {
      "application/vnd.jupyter.widget-view+json": {
       "model_id": "52d70776745d49d8a7629adb177a0284",
       "version_major": 2,
       "version_minor": 0
      },
      "text/plain": [
       "EspiritCalib:   0%|          | 0/100 [00:00<?, ?it/s]"
      ]
     },
     "metadata": {},
     "output_type": "display_data"
    },
    {
     "data": {
      "application/vnd.jupyter.widget-view+json": {
       "model_id": "d5666254940a45ac942961c76e4ce37d",
       "version_major": 2,
       "version_minor": 0
      },
      "text/plain": [
       "EspiritCalib:   0%|          | 0/100 [00:00<?, ?it/s]"
      ]
     },
     "metadata": {},
     "output_type": "display_data"
    },
    {
     "data": {
      "application/vnd.jupyter.widget-view+json": {
       "model_id": "e1fd6d5cd14242a595d0a41c2fa3c37e",
       "version_major": 2,
       "version_minor": 0
      },
      "text/plain": [
       "EspiritCalib:   0%|          | 0/100 [00:00<?, ?it/s]"
      ]
     },
     "metadata": {},
     "output_type": "display_data"
    },
    {
     "data": {
      "application/vnd.jupyter.widget-view+json": {
       "model_id": "83646dfb5b794ad081eb932dcb76b429",
       "version_major": 2,
       "version_minor": 0
      },
      "text/plain": [
       "EspiritCalib:   0%|          | 0/100 [00:00<?, ?it/s]"
      ]
     },
     "metadata": {},
     "output_type": "display_data"
    },
    {
     "data": {
      "application/vnd.jupyter.widget-view+json": {
       "model_id": "356ae7ab1991483393e192494c932220",
       "version_major": 2,
       "version_minor": 0
      },
      "text/plain": [
       "EspiritCalib:   0%|          | 0/100 [00:00<?, ?it/s]"
      ]
     },
     "metadata": {},
     "output_type": "display_data"
    },
    {
     "data": {
      "application/vnd.jupyter.widget-view+json": {
       "model_id": "9eafd1ae2aaa4f8691a09737a15a532e",
       "version_major": 2,
       "version_minor": 0
      },
      "text/plain": [
       "EspiritCalib:   0%|          | 0/100 [00:00<?, ?it/s]"
      ]
     },
     "metadata": {},
     "output_type": "display_data"
    },
    {
     "data": {
      "application/vnd.jupyter.widget-view+json": {
       "model_id": "68db28ee75024ea6894707aa92108890",
       "version_major": 2,
       "version_minor": 0
      },
      "text/plain": [
       "EspiritCalib:   0%|          | 0/100 [00:00<?, ?it/s]"
      ]
     },
     "metadata": {},
     "output_type": "display_data"
    },
    {
     "data": {
      "application/vnd.jupyter.widget-view+json": {
       "model_id": "d80424327a4a4d8099d547b8ec18657e",
       "version_major": 2,
       "version_minor": 0
      },
      "text/plain": [
       "EspiritCalib:   0%|          | 0/100 [00:00<?, ?it/s]"
      ]
     },
     "metadata": {},
     "output_type": "display_data"
    },
    {
     "data": {
      "application/vnd.jupyter.widget-view+json": {
       "model_id": "90caca70608a4b9ebc7629c96d89a627",
       "version_major": 2,
       "version_minor": 0
      },
      "text/plain": [
       "EspiritCalib:   0%|          | 0/100 [00:00<?, ?it/s]"
      ]
     },
     "metadata": {},
     "output_type": "display_data"
    },
    {
     "data": {
      "application/vnd.jupyter.widget-view+json": {
       "model_id": "71dab71e948741e79ad0658a6f130301",
       "version_major": 2,
       "version_minor": 0
      },
      "text/plain": [
       "EspiritCalib:   0%|          | 0/100 [00:00<?, ?it/s]"
      ]
     },
     "metadata": {},
     "output_type": "display_data"
    },
    {
     "data": {
      "application/vnd.jupyter.widget-view+json": {
       "model_id": "388dafac0a7a4a52841f3a03e5deb436",
       "version_major": 2,
       "version_minor": 0
      },
      "text/plain": [
       "EspiritCalib:   0%|          | 0/100 [00:00<?, ?it/s]"
      ]
     },
     "metadata": {},
     "output_type": "display_data"
    },
    {
     "data": {
      "application/vnd.jupyter.widget-view+json": {
       "model_id": "5731351e6515443bb5db59961ce7e7f2",
       "version_major": 2,
       "version_minor": 0
      },
      "text/plain": [
       "EspiritCalib:   0%|          | 0/100 [00:00<?, ?it/s]"
      ]
     },
     "metadata": {},
     "output_type": "display_data"
    },
    {
     "data": {
      "application/vnd.jupyter.widget-view+json": {
       "model_id": "d520bfc659f1495da7ead71371e5b868",
       "version_major": 2,
       "version_minor": 0
      },
      "text/plain": [
       "EspiritCalib:   0%|          | 0/100 [00:00<?, ?it/s]"
      ]
     },
     "metadata": {},
     "output_type": "display_data"
    },
    {
     "data": {
      "application/vnd.jupyter.widget-view+json": {
       "model_id": "639027aa3d85479d85086549362d28d0",
       "version_major": 2,
       "version_minor": 0
      },
      "text/plain": [
       "EspiritCalib:   0%|          | 0/100 [00:00<?, ?it/s]"
      ]
     },
     "metadata": {},
     "output_type": "display_data"
    },
    {
     "name": "stdout",
     "output_type": "stream",
     "text": [
      "(16, 1, 512, 512)\n",
      "Done assembling trnCsm files! \n",
      "\n",
      "Assembling tstOrg files... \n",
      "\n",
      "Done assembling tstOrg files! \n",
      "\n"
     ]
    },
    {
     "data": {
      "application/vnd.jupyter.widget-view+json": {
       "model_id": "eedf7a1c4c2741808def908c77fb6686",
       "version_major": 2,
       "version_minor": 0
      },
      "text/plain": [
       "EspiritCalib:   0%|          | 0/100 [00:00<?, ?it/s]"
      ]
     },
     "metadata": {},
     "output_type": "display_data"
    },
    {
     "data": {
      "application/vnd.jupyter.widget-view+json": {
       "model_id": "19c512bd6b2046b6a1d5865a811326d3",
       "version_major": 2,
       "version_minor": 0
      },
      "text/plain": [
       "EspiritCalib:   0%|          | 0/100 [00:00<?, ?it/s]"
      ]
     },
     "metadata": {},
     "output_type": "display_data"
    },
    {
     "data": {
      "application/vnd.jupyter.widget-view+json": {
       "model_id": "f3438d3a5de94ecbb26497310056e295",
       "version_major": 2,
       "version_minor": 0
      },
      "text/plain": [
       "EspiritCalib:   0%|          | 0/100 [00:00<?, ?it/s]"
      ]
     },
     "metadata": {},
     "output_type": "display_data"
    },
    {
     "data": {
      "application/vnd.jupyter.widget-view+json": {
       "model_id": "16cecf53268b4f5ea29414a02b225e62",
       "version_major": 2,
       "version_minor": 0
      },
      "text/plain": [
       "EspiritCalib:   0%|          | 0/100 [00:00<?, ?it/s]"
      ]
     },
     "metadata": {},
     "output_type": "display_data"
    },
    {
     "data": {
      "application/vnd.jupyter.widget-view+json": {
       "model_id": "8b6e4534f2344fcd8cec26b259a691c1",
       "version_major": 2,
       "version_minor": 0
      },
      "text/plain": [
       "EspiritCalib:   0%|          | 0/100 [00:00<?, ?it/s]"
      ]
     },
     "metadata": {},
     "output_type": "display_data"
    },
    {
     "data": {
      "application/vnd.jupyter.widget-view+json": {
       "model_id": "3773b0e1caf54838ac6d76a83175d30a",
       "version_major": 2,
       "version_minor": 0
      },
      "text/plain": [
       "EspiritCalib:   0%|          | 0/100 [00:00<?, ?it/s]"
      ]
     },
     "metadata": {},
     "output_type": "display_data"
    },
    {
     "data": {
      "application/vnd.jupyter.widget-view+json": {
       "model_id": "75529e1c5197412a93602c03f5fcfe8a",
       "version_major": 2,
       "version_minor": 0
      },
      "text/plain": [
       "EspiritCalib:   0%|          | 0/100 [00:00<?, ?it/s]"
      ]
     },
     "metadata": {},
     "output_type": "display_data"
    },
    {
     "data": {
      "application/vnd.jupyter.widget-view+json": {
       "model_id": "b191a3d238b64a49b57d07b5985f93fc",
       "version_major": 2,
       "version_minor": 0
      },
      "text/plain": [
       "EspiritCalib:   0%|          | 0/100 [00:00<?, ?it/s]"
      ]
     },
     "metadata": {},
     "output_type": "display_data"
    },
    {
     "data": {
      "application/vnd.jupyter.widget-view+json": {
       "model_id": "e9c931dadbf44e098d1822af4b8f802a",
       "version_major": 2,
       "version_minor": 0
      },
      "text/plain": [
       "EspiritCalib:   0%|          | 0/100 [00:00<?, ?it/s]"
      ]
     },
     "metadata": {},
     "output_type": "display_data"
    },
    {
     "data": {
      "application/vnd.jupyter.widget-view+json": {
       "model_id": "bdbbaeacf3de43e396d581d215578eb7",
       "version_major": 2,
       "version_minor": 0
      },
      "text/plain": [
       "EspiritCalib:   0%|          | 0/100 [00:00<?, ?it/s]"
      ]
     },
     "metadata": {},
     "output_type": "display_data"
    },
    {
     "data": {
      "application/vnd.jupyter.widget-view+json": {
       "model_id": "f28c75fe0668437a9b67ef8cc3063250",
       "version_major": 2,
       "version_minor": 0
      },
      "text/plain": [
       "EspiritCalib:   0%|          | 0/100 [00:00<?, ?it/s]"
      ]
     },
     "metadata": {},
     "output_type": "display_data"
    },
    {
     "data": {
      "application/vnd.jupyter.widget-view+json": {
       "model_id": "a04ae69217d949738a7960f90ccee185",
       "version_major": 2,
       "version_minor": 0
      },
      "text/plain": [
       "EspiritCalib:   0%|          | 0/100 [00:00<?, ?it/s]"
      ]
     },
     "metadata": {},
     "output_type": "display_data"
    },
    {
     "data": {
      "application/vnd.jupyter.widget-view+json": {
       "model_id": "aa4a4ca0078348baba6759a46ca257b0",
       "version_major": 2,
       "version_minor": 0
      },
      "text/plain": [
       "EspiritCalib:   0%|          | 0/100 [00:00<?, ?it/s]"
      ]
     },
     "metadata": {},
     "output_type": "display_data"
    },
    {
     "data": {
      "application/vnd.jupyter.widget-view+json": {
       "model_id": "4dbdcd92e15040e28d5c5c034bb3c7a8",
       "version_major": 2,
       "version_minor": 0
      },
      "text/plain": [
       "EspiritCalib:   0%|          | 0/100 [00:00<?, ?it/s]"
      ]
     },
     "metadata": {},
     "output_type": "display_data"
    },
    {
     "data": {
      "application/vnd.jupyter.widget-view+json": {
       "model_id": "9265752567004203bf5c76c79585323d",
       "version_major": 2,
       "version_minor": 0
      },
      "text/plain": [
       "EspiritCalib:   0%|          | 0/100 [00:00<?, ?it/s]"
      ]
     },
     "metadata": {},
     "output_type": "display_data"
    },
    {
     "data": {
      "application/vnd.jupyter.widget-view+json": {
       "model_id": "e01bdddd981140a48864e4225683d24d",
       "version_major": 2,
       "version_minor": 0
      },
      "text/plain": [
       "EspiritCalib:   0%|          | 0/100 [00:00<?, ?it/s]"
      ]
     },
     "metadata": {},
     "output_type": "display_data"
    },
    {
     "data": {
      "application/vnd.jupyter.widget-view+json": {
       "model_id": "fd63fcf0753e45888665905742049623",
       "version_major": 2,
       "version_minor": 0
      },
      "text/plain": [
       "EspiritCalib:   0%|          | 0/100 [00:00<?, ?it/s]"
      ]
     },
     "metadata": {},
     "output_type": "display_data"
    },
    {
     "data": {
      "application/vnd.jupyter.widget-view+json": {
       "model_id": "ac88c6e939a14ced8aaecccb1e78f845",
       "version_major": 2,
       "version_minor": 0
      },
      "text/plain": [
       "EspiritCalib:   0%|          | 0/100 [00:00<?, ?it/s]"
      ]
     },
     "metadata": {},
     "output_type": "display_data"
    },
    {
     "data": {
      "application/vnd.jupyter.widget-view+json": {
       "model_id": "d7e99d3630b246039bc8b00bf5dafe6f",
       "version_major": 2,
       "version_minor": 0
      },
      "text/plain": [
       "EspiritCalib:   0%|          | 0/100 [00:00<?, ?it/s]"
      ]
     },
     "metadata": {},
     "output_type": "display_data"
    },
    {
     "data": {
      "application/vnd.jupyter.widget-view+json": {
       "model_id": "1954058ae8344524a242ec2820f38fd3",
       "version_major": 2,
       "version_minor": 0
      },
      "text/plain": [
       "EspiritCalib:   0%|          | 0/100 [00:00<?, ?it/s]"
      ]
     },
     "metadata": {},
     "output_type": "display_data"
    },
    {
     "data": {
      "application/vnd.jupyter.widget-view+json": {
       "model_id": "734b004fec284580a5dc829f7a74d324",
       "version_major": 2,
       "version_minor": 0
      },
      "text/plain": [
       "EspiritCalib:   0%|          | 0/100 [00:00<?, ?it/s]"
      ]
     },
     "metadata": {},
     "output_type": "display_data"
    },
    {
     "data": {
      "application/vnd.jupyter.widget-view+json": {
       "model_id": "af08d06ad92d4b57922447e00e51fbb8",
       "version_major": 2,
       "version_minor": 0
      },
      "text/plain": [
       "EspiritCalib:   0%|          | 0/100 [00:00<?, ?it/s]"
      ]
     },
     "metadata": {},
     "output_type": "display_data"
    },
    {
     "name": "stderr",
     "output_type": "stream",
     "text": [
      "C:\\Users\\Kevin\\AppData\\Local\\Temp/ipykernel_32712/4265379274.py:334: ComplexWarning: Casting complex values to real discards the imaginary part\n",
      "  plt.imshow(imgTensorCSM[0][0].astype(\"float64\"))\n"
     ]
    },
    {
     "data": {
      "image/png": "[encoded data removed]",
      "text/plain": [
       "<Figure size 432x288 with 1 Axes>"
      ]
     },
     "metadata": {
      "needs_background": "light"
     },
     "output_type": "display_data"
    },
    {
     "name": "stdout",
     "output_type": "stream",
     "text": [
      "(22, 1, 512, 512)\n",
      "Done assembling tstCsm files! \n",
      "\n",
      "Assembling trnMask files... \n",
      "\n",
      "(368, 512, 512)\n",
      "Done assembling trnMask files! \n",
      "\n",
      "Assembling tstMask files... \n",
      "\n",
      "(180, 512, 512)\n",
      "Done assembling tstMask files! \n",
      "\n",
      "Done! Dataset created.\n"
     ]
    }
   ],
   "source": [
    "print(\"Compiling HDF5 dataset file now... \\n\")\n",
    "\n",
    "outFilename = 'dicom_out.hdf5'  # The name of our HDF5 data file\n",
    "\n",
    "with h5py.File(outFilename, 'w') as df:  # Open hdf5 file for writing our DICOM dataset\n",
    "\n",
    "    numPatients = len(patients)  # Number of patients in the directory\n",
    "        \n",
    "   \n",
    "    imgTensor, imgTensorCSM, original_C, original_H, original_W, original_D = getImageTensor(patients)\n",
    "    imgTensor_test, imgTensorCSM_test, original_C, original_H, original_W, original_D = getImageTensor_test(patients_testing)\n",
    "    imgTensor_mask_train, imgTensor_mask_test = getImageTensor_mask(patients_training_mask, patients_testing_mask)\n",
    "\n",
    "    \n",
    "    \n",
    "    ##managing datatypes\n",
    "    c8_datatype = np.dtype('<c8')\n",
    "    i1_datatype = np.dtype('|i1') \n",
    "    \n",
    "    #for training\n",
    "    dset = df.create_dataset('trnOrg', data=imgTensor.astype(c8_datatype), shape=(368,512,512), maxshape=(None, 512,512))\n",
    "    dset = df.create_dataset('trnCsm', data=imgTensorCSM.astype(c8_datatype), shape=(16,1,512,512), maxshape=(None, None, 512,512))\n",
    "    dset = df.create_dataset('trnMask',data=imgTensor_mask_train.astype(i1_datatype), shape=(368,512,512), maxshape=(None, 512,512))\n",
    "\n",
    "    \n",
    "    #for testing\n",
    "    dset = df.create_dataset('tstOrg', data=imgTensor_test.astype(c8_datatype), shape=(180,512,512), maxshape=(None, 512,512))\n",
    "    dset = df.create_dataset('tstCsm', data=imgTensorCSM_test.astype(c8_datatype), shape=(22,1,512,512), maxshape=(None, None, 512,512))\n",
    "    dset = df.create_dataset('tstMask',data=imgTensor_mask_test.astype(i1_datatype), shape=(180,512,512), maxshape=(None, 512,512))\n",
    "\n",
    "    \n",
    "    print(\"Done! Dataset created.\")\n",
    "            \n"
   ]
  }
 ],
 "metadata": {
  "kernelspec": {
   "display_name": "Python 3 (ipykernel)",
   "language": "python",
   "name": "python3"
  },
  "language_info": {
   "codemirror_mode": {
    "name": "ipython",
    "version": 3
   },
   "file_extension": ".py",
   "mimetype": "text/x-python",
   "name": "python",
   "nbconvert_exporter": "python",
   "pygments_lexer": "ipython3",
   "version": "3.8.11"
  }
 },
 "nbformat": 4,
 "nbformat_minor": 5
}
